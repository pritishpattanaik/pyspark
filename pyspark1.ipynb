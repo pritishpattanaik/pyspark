{
  "nbformat": 4,
  "nbformat_minor": 0,
  "metadata": {
    "colab": {
      "name": "pyspark1.ipynb",
      "provenance": [],
      "authorship_tag": "ABX9TyPg7rKl6vtiHiAIR0/sgw29",
      "include_colab_link": true
    },
    "kernelspec": {
      "name": "python3",
      "display_name": "Python 3"
    },
    "language_info": {
      "name": "python"
    }
  },
  "cells": [
    {
      "cell_type": "markdown",
      "metadata": {
        "id": "view-in-github",
        "colab_type": "text"
      },
      "source": [
        "<a href=\"https://colab.research.google.com/github/pritishpattanaik/pyspark/blob/main/pyspark1.ipynb\" target=\"_parent\"><img src=\"https://colab.research.google.com/assets/colab-badge.svg\" alt=\"Open In Colab\"/></a>"
      ]
    },
    {
      "cell_type": "code",
      "metadata": {
        "colab": {
          "base_uri": "https://localhost:8080/"
        },
        "id": "BD-nn44YG-J1",
        "outputId": "3d181a2a-53d9-45d1-9e37-265719902da2"
      },
      "source": [
        "cd sample_data/"
      ],
      "execution_count": 5,
      "outputs": [
        {
          "output_type": "stream",
          "text": [
            "/content/sample_data\n"
          ],
          "name": "stdout"
        }
      ]
    },
    {
      "cell_type": "code",
      "metadata": {
        "colab": {
          "base_uri": "https://localhost:8080/"
        },
        "id": "zbv8LtfTHHym",
        "outputId": "7aa66978-78ad-451c-f17f-fcbe113b2065"
      },
      "source": [
        "ls -lh"
      ],
      "execution_count": 8,
      "outputs": [
        {
          "output_type": "stream",
          "text": [
            "total 55M\n",
            "-rwxr-xr-x 1 root root 1.7K Jan  1  2000 \u001b[0m\u001b[01;32manscombe.json\u001b[0m*\n",
            "-rw-r--r-- 1 root root 295K Mar 25 13:38 california_housing_test.csv\n",
            "-rw-r--r-- 1 root root 1.7M Mar 25 13:38 california_housing_train.csv\n",
            "-rw-r--r-- 1 root root  18M Mar 25 13:38 mnist_test.csv\n",
            "-rw-r--r-- 1 root root  35M Mar 25 13:38 mnist_train_small.csv\n",
            "-rwxr-xr-x 1 root root  930 Jan  1  2000 \u001b[01;32mREADME.md\u001b[0m*\n"
          ],
          "name": "stdout"
        }
      ]
    }
  ]
}